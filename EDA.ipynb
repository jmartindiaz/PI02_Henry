{
 "cells": [
  {
   "cell_type": "markdown",
   "metadata": {},
   "source": [
    "En primer lugar, vamos a importar las librerias necesarias:"
   ]
  },
  {
   "cell_type": "code",
   "execution_count": 1,
   "metadata": {},
   "outputs": [],
   "source": [
    "import pandas as pd\n",
    "import numpy as np\n",
    "from pycoingecko import CoinGeckoAPI"
   ]
  },
  {
   "cell_type": "markdown",
   "metadata": {},
   "source": [
    "Ahora vamos a instancias nuestra API:"
   ]
  },
  {
   "cell_type": "code",
   "execution_count": 22,
   "metadata": {},
   "outputs": [],
   "source": [
    "cg = CoinGeckoAPI()"
   ]
  },
  {
   "cell_type": "code",
   "execution_count": 30,
   "metadata": {},
   "outputs": [],
   "source": [
    "coins_df = pd.json_normalize(cg.get_coins_list())\n",
    "coins_df.tail(20)"
   ]
  },
  {
   "cell_type": "code",
   "execution_count": 26,
   "metadata": {},
   "outputs": [
    {
     "data": {
      "text/plain": [
       "{}"
      ]
     },
     "execution_count": 26,
     "metadata": {},
     "output_type": "execute_result"
    }
   ],
   "source": [
    "cg.get_price(ids=coins_df['id'],vs_currencies='usd')"
   ]
  },
  {
   "cell_type": "code",
   "execution_count": 24,
   "metadata": {},
   "outputs": [
    {
     "data": {
      "text/plain": [
       "['btc',\n",
       " 'eth',\n",
       " 'ltc',\n",
       " 'bch',\n",
       " 'bnb',\n",
       " 'eos',\n",
       " 'xrp',\n",
       " 'xlm',\n",
       " 'link',\n",
       " 'dot',\n",
       " 'yfi',\n",
       " 'usd',\n",
       " 'aed',\n",
       " 'ars',\n",
       " 'aud',\n",
       " 'bdt',\n",
       " 'bhd',\n",
       " 'bmd',\n",
       " 'brl',\n",
       " 'cad',\n",
       " 'chf',\n",
       " 'clp',\n",
       " 'cny',\n",
       " 'czk',\n",
       " 'dkk',\n",
       " 'eur',\n",
       " 'gbp',\n",
       " 'hkd',\n",
       " 'huf',\n",
       " 'idr',\n",
       " 'ils',\n",
       " 'inr',\n",
       " 'jpy',\n",
       " 'krw',\n",
       " 'kwd',\n",
       " 'lkr',\n",
       " 'mmk',\n",
       " 'mxn',\n",
       " 'myr',\n",
       " 'ngn',\n",
       " 'nok',\n",
       " 'nzd',\n",
       " 'php',\n",
       " 'pkr',\n",
       " 'pln',\n",
       " 'rub',\n",
       " 'sar',\n",
       " 'sek',\n",
       " 'sgd',\n",
       " 'thb',\n",
       " 'try',\n",
       " 'twd',\n",
       " 'uah',\n",
       " 'vef',\n",
       " 'vnd',\n",
       " 'zar',\n",
       " 'xdr',\n",
       " 'xag',\n",
       " 'xau',\n",
       " 'bits',\n",
       " 'sats']"
      ]
     },
     "execution_count": 24,
     "metadata": {},
     "output_type": "execute_result"
    }
   ],
   "source": [
    "cg.get_supported_vs_currencies()"
   ]
  },
  {
   "cell_type": "code",
   "execution_count": 15,
   "metadata": {},
   "outputs": [
    {
     "name": "stdout",
     "output_type": "stream",
     "text": [
      "{'bitcoin': {'usd': 28557, 'eur': 26282}, 'ethereum': {'usd': 1795.01, 'eur': 1652.03}}\n"
     ]
    },
    {
     "data": {
      "text/html": [
       "<div>\n",
       "<style scoped>\n",
       "    .dataframe tbody tr th:only-of-type {\n",
       "        vertical-align: middle;\n",
       "    }\n",
       "\n",
       "    .dataframe tbody tr th {\n",
       "        vertical-align: top;\n",
       "    }\n",
       "\n",
       "    .dataframe thead th {\n",
       "        text-align: right;\n",
       "    }\n",
       "</style>\n",
       "<table border=\"1\" class=\"dataframe\">\n",
       "  <thead>\n",
       "    <tr style=\"text-align: right;\">\n",
       "      <th></th>\n",
       "      <th>bitcoin.usd</th>\n",
       "      <th>bitcoin.eur</th>\n",
       "      <th>ethereum.usd</th>\n",
       "      <th>ethereum.eur</th>\n",
       "    </tr>\n",
       "  </thead>\n",
       "  <tbody>\n",
       "    <tr>\n",
       "      <th>0</th>\n",
       "      <td>28557</td>\n",
       "      <td>26282</td>\n",
       "      <td>1795.01</td>\n",
       "      <td>1652.03</td>\n",
       "    </tr>\n",
       "  </tbody>\n",
       "</table>\n",
       "</div>"
      ],
      "text/plain": [
       "   bitcoin.usd  bitcoin.eur  ethereum.usd  ethereum.eur\n",
       "0        28557        26282       1795.01       1652.03"
      ]
     },
     "execution_count": 15,
     "metadata": {},
     "output_type": "execute_result"
    }
   ],
   "source": [
    "pd.json_normalize(get_prices('bitcoin, ethereum','usd,eur'))"
   ]
  },
  {
   "cell_type": "markdown",
   "metadata": {},
   "source": [
    "Traemos datos:"
   ]
  },
  {
   "cell_type": "code",
   "execution_count": 5,
   "metadata": {},
   "outputs": [],
   "source": [
    "def get_prices(coin_ids: str, vs_currencies: str):\n",
    "    prices = cg.get_price(\n",
    "        ids = coin_ids,\n",
    "        vs_currencies = vs_currencies\n",
    "    )\n",
    "    print(prices)\n",
    "    return prices\n",
    "\n",
    "#if __name__ == '__main__':\n",
    "#    get_prices('bitcoin,ethereum,solans,binancecoin','usd,eur')"
   ]
  }
 ],
 "metadata": {
  "kernelspec": {
   "display_name": "Python 3",
   "language": "python",
   "name": "python3"
  },
  "language_info": {
   "codemirror_mode": {
    "name": "ipython",
    "version": 3
   },
   "file_extension": ".py",
   "mimetype": "text/x-python",
   "name": "python",
   "nbconvert_exporter": "python",
   "pygments_lexer": "ipython3",
   "version": "3.11.1"
  },
  "orig_nbformat": 4
 },
 "nbformat": 4,
 "nbformat_minor": 2
}
