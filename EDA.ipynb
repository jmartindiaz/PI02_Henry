{
 "cells": [
  {
   "cell_type": "markdown",
   "metadata": {},
   "source": [
    "En primer lugar, vamos a importar las librerias necesarias:"
   ]
  },
  {
   "cell_type": "code",
   "execution_count": 1,
   "metadata": {},
   "outputs": [],
   "source": [
    "import pandas as pd\n",
    "import numpy as np\n",
    "from pycoingecko import CoinGeckoAPI"
   ]
  },
  {
   "cell_type": "markdown",
   "metadata": {},
   "source": [
    "Ahora vamos a instancias nuestra API:"
   ]
  },
  {
   "cell_type": "code",
   "execution_count": 22,
   "metadata": {},
   "outputs": [],
   "source": [
    "cg = CoinGeckoAPI()"
   ]
  },
  {
   "cell_type": "code",
   "execution_count": 23,
   "metadata": {},
   "outputs": [
    {
     "data": {
      "text/html": [
       "<div>\n",
       "<style scoped>\n",
       "    .dataframe tbody tr th:only-of-type {\n",
       "        vertical-align: middle;\n",
       "    }\n",
       "\n",
       "    .dataframe tbody tr th {\n",
       "        vertical-align: top;\n",
       "    }\n",
       "\n",
       "    .dataframe thead th {\n",
       "        text-align: right;\n",
       "    }\n",
       "</style>\n",
       "<table border=\"1\" class=\"dataframe\">\n",
       "  <thead>\n",
       "    <tr style=\"text-align: right;\">\n",
       "      <th></th>\n",
       "      <th>id</th>\n",
       "      <th>symbol</th>\n",
       "      <th>name</th>\n",
       "    </tr>\n",
       "  </thead>\n",
       "  <tbody>\n",
       "    <tr>\n",
       "      <th>0</th>\n",
       "      <td>01coin</td>\n",
       "      <td>zoc</td>\n",
       "      <td>01coin</td>\n",
       "    </tr>\n",
       "    <tr>\n",
       "      <th>1</th>\n",
       "      <td>0chain</td>\n",
       "      <td>zcn</td>\n",
       "      <td>Zus</td>\n",
       "    </tr>\n",
       "    <tr>\n",
       "      <th>2</th>\n",
       "      <td>0vix-protocol</td>\n",
       "      <td>vix</td>\n",
       "      <td>0VIX Protocol</td>\n",
       "    </tr>\n",
       "    <tr>\n",
       "      <th>3</th>\n",
       "      <td>0x</td>\n",
       "      <td>zrx</td>\n",
       "      <td>0x Protocol</td>\n",
       "    </tr>\n",
       "    <tr>\n",
       "      <th>4</th>\n",
       "      <td>0x0-ai-ai-smart-contract</td>\n",
       "      <td>0x0</td>\n",
       "      <td>0x0.ai: AI Smart Contract</td>\n",
       "    </tr>\n",
       "    <tr>\n",
       "      <th>...</th>\n",
       "      <td>...</td>\n",
       "      <td>...</td>\n",
       "      <td>...</td>\n",
       "    </tr>\n",
       "    <tr>\n",
       "      <th>10102</th>\n",
       "      <td>zynecoin</td>\n",
       "      <td>zyn</td>\n",
       "      <td>Zynecoin</td>\n",
       "    </tr>\n",
       "    <tr>\n",
       "      <th>10103</th>\n",
       "      <td>zynergy</td>\n",
       "      <td>zyn</td>\n",
       "      <td>Zynergy</td>\n",
       "    </tr>\n",
       "    <tr>\n",
       "      <th>10104</th>\n",
       "      <td>zyrri</td>\n",
       "      <td>zyr</td>\n",
       "      <td>Zyrri</td>\n",
       "    </tr>\n",
       "    <tr>\n",
       "      <th>10105</th>\n",
       "      <td>zyx</td>\n",
       "      <td>zyx</td>\n",
       "      <td>ZYX</td>\n",
       "    </tr>\n",
       "    <tr>\n",
       "      <th>10106</th>\n",
       "      <td>zzz</td>\n",
       "      <td>zzz</td>\n",
       "      <td>GoSleep ZZZ</td>\n",
       "    </tr>\n",
       "  </tbody>\n",
       "</table>\n",
       "<p>10107 rows × 3 columns</p>\n",
       "</div>"
      ],
      "text/plain": [
       "                             id symbol                       name\n",
       "0                        01coin    zoc                     01coin\n",
       "1                        0chain    zcn                        Zus\n",
       "2                 0vix-protocol    vix              0VIX Protocol\n",
       "3                            0x    zrx                0x Protocol\n",
       "4      0x0-ai-ai-smart-contract    0x0  0x0.ai: AI Smart Contract\n",
       "...                         ...    ...                        ...\n",
       "10102                  zynecoin    zyn                   Zynecoin\n",
       "10103                   zynergy    zyn                    Zynergy\n",
       "10104                     zyrri    zyr                      Zyrri\n",
       "10105                       zyx    zyx                        ZYX\n",
       "10106                       zzz    zzz                GoSleep ZZZ\n",
       "\n",
       "[10107 rows x 3 columns]"
      ]
     },
     "execution_count": 23,
     "metadata": {},
     "output_type": "execute_result"
    }
   ],
   "source": [
    "coins_df = pd.json_normalize(cg.get_coins_list())\n",
    "coins_df"
   ]
  },
  {
   "cell_type": "code",
   "execution_count": 26,
   "metadata": {},
   "outputs": [
    {
     "data": {
      "text/plain": [
       "{}"
      ]
     },
     "execution_count": 26,
     "metadata": {},
     "output_type": "execute_result"
    }
   ],
   "source": [
    "cg.get_price(ids=coins_df['id'],vs_currencies='usd')"
   ]
  },
  {
   "cell_type": "code",
   "execution_count": 24,
   "metadata": {},
   "outputs": [
    {
     "data": {
      "text/plain": [
       "['btc',\n",
       " 'eth',\n",
       " 'ltc',\n",
       " 'bch',\n",
       " 'bnb',\n",
       " 'eos',\n",
       " 'xrp',\n",
       " 'xlm',\n",
       " 'link',\n",
       " 'dot',\n",
       " 'yfi',\n",
       " 'usd',\n",
       " 'aed',\n",
       " 'ars',\n",
       " 'aud',\n",
       " 'bdt',\n",
       " 'bhd',\n",
       " 'bmd',\n",
       " 'brl',\n",
       " 'cad',\n",
       " 'chf',\n",
       " 'clp',\n",
       " 'cny',\n",
       " 'czk',\n",
       " 'dkk',\n",
       " 'eur',\n",
       " 'gbp',\n",
       " 'hkd',\n",
       " 'huf',\n",
       " 'idr',\n",
       " 'ils',\n",
       " 'inr',\n",
       " 'jpy',\n",
       " 'krw',\n",
       " 'kwd',\n",
       " 'lkr',\n",
       " 'mmk',\n",
       " 'mxn',\n",
       " 'myr',\n",
       " 'ngn',\n",
       " 'nok',\n",
       " 'nzd',\n",
       " 'php',\n",
       " 'pkr',\n",
       " 'pln',\n",
       " 'rub',\n",
       " 'sar',\n",
       " 'sek',\n",
       " 'sgd',\n",
       " 'thb',\n",
       " 'try',\n",
       " 'twd',\n",
       " 'uah',\n",
       " 'vef',\n",
       " 'vnd',\n",
       " 'zar',\n",
       " 'xdr',\n",
       " 'xag',\n",
       " 'xau',\n",
       " 'bits',\n",
       " 'sats']"
      ]
     },
     "execution_count": 24,
     "metadata": {},
     "output_type": "execute_result"
    }
   ],
   "source": [
    "cg.get_supported_vs_currencies()"
   ]
  },
  {
   "cell_type": "code",
   "execution_count": 15,
   "metadata": {},
   "outputs": [
    {
     "name": "stdout",
     "output_type": "stream",
     "text": [
      "{'bitcoin': {'usd': 28557, 'eur': 26282}, 'ethereum': {'usd': 1795.01, 'eur': 1652.03}}\n"
     ]
    },
    {
     "data": {
      "text/html": [
       "<div>\n",
       "<style scoped>\n",
       "    .dataframe tbody tr th:only-of-type {\n",
       "        vertical-align: middle;\n",
       "    }\n",
       "\n",
       "    .dataframe tbody tr th {\n",
       "        vertical-align: top;\n",
       "    }\n",
       "\n",
       "    .dataframe thead th {\n",
       "        text-align: right;\n",
       "    }\n",
       "</style>\n",
       "<table border=\"1\" class=\"dataframe\">\n",
       "  <thead>\n",
       "    <tr style=\"text-align: right;\">\n",
       "      <th></th>\n",
       "      <th>bitcoin.usd</th>\n",
       "      <th>bitcoin.eur</th>\n",
       "      <th>ethereum.usd</th>\n",
       "      <th>ethereum.eur</th>\n",
       "    </tr>\n",
       "  </thead>\n",
       "  <tbody>\n",
       "    <tr>\n",
       "      <th>0</th>\n",
       "      <td>28557</td>\n",
       "      <td>26282</td>\n",
       "      <td>1795.01</td>\n",
       "      <td>1652.03</td>\n",
       "    </tr>\n",
       "  </tbody>\n",
       "</table>\n",
       "</div>"
      ],
      "text/plain": [
       "   bitcoin.usd  bitcoin.eur  ethereum.usd  ethereum.eur\n",
       "0        28557        26282       1795.01       1652.03"
      ]
     },
     "execution_count": 15,
     "metadata": {},
     "output_type": "execute_result"
    }
   ],
   "source": [
    "pd.json_normalize(get_prices('bitcoin, ethereum','usd,eur'))"
   ]
  },
  {
   "cell_type": "markdown",
   "metadata": {},
   "source": [
    "Traemos datos:"
   ]
  },
  {
   "cell_type": "code",
   "execution_count": 5,
   "metadata": {},
   "outputs": [],
   "source": [
    "def get_prices(coin_ids: str, vs_currencies: str):\n",
    "    prices = cg.get_price(\n",
    "        ids = coin_ids,\n",
    "        vs_currencies = vs_currencies\n",
    "    )\n",
    "    print(prices)\n",
    "    return prices\n",
    "\n",
    "#if __name__ == '__main__':\n",
    "#    get_prices('bitcoin,ethereum,solans,binancecoin','usd,eur')"
   ]
  }
 ],
 "metadata": {
  "kernelspec": {
   "display_name": "Python 3",
   "language": "python",
   "name": "python3"
  },
  "language_info": {
   "codemirror_mode": {
    "name": "ipython",
    "version": 3
   },
   "file_extension": ".py",
   "mimetype": "text/x-python",
   "name": "python",
   "nbconvert_exporter": "python",
   "pygments_lexer": "ipython3",
   "version": "3.11.1"
  },
  "orig_nbformat": 4
 },
 "nbformat": 4,
 "nbformat_minor": 2
}
